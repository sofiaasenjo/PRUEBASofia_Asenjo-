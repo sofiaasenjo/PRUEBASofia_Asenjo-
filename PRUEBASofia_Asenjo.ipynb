{
  "nbformat": 4,
  "nbformat_minor": 0,
  "metadata": {
    "colab": {
      "provenance": []
    },
    "kernelspec": {
      "name": "python3",
      "display_name": "Python 3"
    },
    "language_info": {
      "name": "python"
    }
  },
  "cells": [
    {
      "cell_type": "code",
      "source": [
        "# Importación de librerías necesarias\n",
        "import pandas as pd # Estructura y manipulación de datos\n",
        "import numpy as np # Programación vectorial\n",
        "import seaborn as sns\n",
        "import matplotlib.pyplot as plt # Visualización\n",
        "from scipy import stats"
      ],
      "metadata": {
        "id": "gIW6CJxzpa9N"
      },
      "execution_count": 1,
      "outputs": []
    },
    {
      "cell_type": "code",
      "source": [
        "from google.colab import drive\n",
        "drive.mount('/content/drive')"
      ],
      "metadata": {
        "colab": {
          "base_uri": "https://localhost:8080/"
        },
        "id": "Ko7hJaMZpwGw",
        "outputId": "ab5787ec-fbc3-4a12-96f1-2733fdb889e2"
      },
      "execution_count": 2,
      "outputs": [
        {
          "output_type": "stream",
          "name": "stdout",
          "text": [
            "Mounted at /content/drive\n"
          ]
        }
      ]
    },
    {
      "cell_type": "code",
      "source": [
        "url = '/content/drive/MyDrive/Fundamentos de machine learning/WA_Fn-UseC_-HR-Employee-Attrition.csv'\n",
        "df = pd.read_csv(url, sep=\",\", encoding='utf-8')"
      ],
      "metadata": {
        "id": "-dR3AIvyp7cI"
      },
      "execution_count": 3,
      "outputs": []
    },
    {
      "cell_type": "code",
      "source": [
        "df.head()"
      ],
      "metadata": {
        "colab": {
          "base_uri": "https://localhost:8080/",
          "height": 325
        },
        "id": "qQ4eSLe5qMaa",
        "outputId": "c260fb51-6caf-476e-c627-050d789c9d4a"
      },
      "execution_count": 4,
      "outputs": [
        {
          "output_type": "execute_result",
          "data": {
            "text/plain": [
              "   Age Attrition     BusinessTravel  DailyRate              Department  \\\n",
              "0   41       Yes      Travel_Rarely       1102                   Sales   \n",
              "1   49        No  Travel_Frequently        279  Research & Development   \n",
              "2   37       Yes      Travel_Rarely       1373  Research & Development   \n",
              "3   33        No  Travel_Frequently       1392  Research & Development   \n",
              "4   27        No      Travel_Rarely        591  Research & Development   \n",
              "\n",
              "   DistanceFromHome  Education EducationField  EmployeeCount  EmployeeNumber  \\\n",
              "0                 1          2  Life Sciences              1               1   \n",
              "1                 8          1  Life Sciences              1               2   \n",
              "2                 2          2          Other              1               4   \n",
              "3                 3          4  Life Sciences              1               5   \n",
              "4                 2          1        Medical              1               7   \n",
              "\n",
              "   ...  RelationshipSatisfaction StandardHours  StockOptionLevel  \\\n",
              "0  ...                         1            80                 0   \n",
              "1  ...                         4            80                 1   \n",
              "2  ...                         2            80                 0   \n",
              "3  ...                         3            80                 0   \n",
              "4  ...                         4            80                 1   \n",
              "\n",
              "   TotalWorkingYears  TrainingTimesLastYear WorkLifeBalance  YearsAtCompany  \\\n",
              "0                  8                      0               1               6   \n",
              "1                 10                      3               3              10   \n",
              "2                  7                      3               3               0   \n",
              "3                  8                      3               3               8   \n",
              "4                  6                      3               3               2   \n",
              "\n",
              "  YearsInCurrentRole  YearsSinceLastPromotion  YearsWithCurrManager  \n",
              "0                  4                        0                     5  \n",
              "1                  7                        1                     7  \n",
              "2                  0                        0                     0  \n",
              "3                  7                        3                     0  \n",
              "4                  2                        2                     2  \n",
              "\n",
              "[5 rows x 35 columns]"
            ],
            "text/html": [
              "\n",
              "  <div id=\"df-1010efd0-2bc0-4e08-ac57-ea717051f363\" class=\"colab-df-container\">\n",
              "    <div>\n",
              "<style scoped>\n",
              "    .dataframe tbody tr th:only-of-type {\n",
              "        vertical-align: middle;\n",
              "    }\n",
              "\n",
              "    .dataframe tbody tr th {\n",
              "        vertical-align: top;\n",
              "    }\n",
              "\n",
              "    .dataframe thead th {\n",
              "        text-align: right;\n",
              "    }\n",
              "</style>\n",
              "<table border=\"1\" class=\"dataframe\">\n",
              "  <thead>\n",
              "    <tr style=\"text-align: right;\">\n",
              "      <th></th>\n",
              "      <th>Age</th>\n",
              "      <th>Attrition</th>\n",
              "      <th>BusinessTravel</th>\n",
              "      <th>DailyRate</th>\n",
              "      <th>Department</th>\n",
              "      <th>DistanceFromHome</th>\n",
              "      <th>Education</th>\n",
              "      <th>EducationField</th>\n",
              "      <th>EmployeeCount</th>\n",
              "      <th>EmployeeNumber</th>\n",
              "      <th>...</th>\n",
              "      <th>RelationshipSatisfaction</th>\n",
              "      <th>StandardHours</th>\n",
              "      <th>StockOptionLevel</th>\n",
              "      <th>TotalWorkingYears</th>\n",
              "      <th>TrainingTimesLastYear</th>\n",
              "      <th>WorkLifeBalance</th>\n",
              "      <th>YearsAtCompany</th>\n",
              "      <th>YearsInCurrentRole</th>\n",
              "      <th>YearsSinceLastPromotion</th>\n",
              "      <th>YearsWithCurrManager</th>\n",
              "    </tr>\n",
              "  </thead>\n",
              "  <tbody>\n",
              "    <tr>\n",
              "      <th>0</th>\n",
              "      <td>41</td>\n",
              "      <td>Yes</td>\n",
              "      <td>Travel_Rarely</td>\n",
              "      <td>1102</td>\n",
              "      <td>Sales</td>\n",
              "      <td>1</td>\n",
              "      <td>2</td>\n",
              "      <td>Life Sciences</td>\n",
              "      <td>1</td>\n",
              "      <td>1</td>\n",
              "      <td>...</td>\n",
              "      <td>1</td>\n",
              "      <td>80</td>\n",
              "      <td>0</td>\n",
              "      <td>8</td>\n",
              "      <td>0</td>\n",
              "      <td>1</td>\n",
              "      <td>6</td>\n",
              "      <td>4</td>\n",
              "      <td>0</td>\n",
              "      <td>5</td>\n",
              "    </tr>\n",
              "    <tr>\n",
              "      <th>1</th>\n",
              "      <td>49</td>\n",
              "      <td>No</td>\n",
              "      <td>Travel_Frequently</td>\n",
              "      <td>279</td>\n",
              "      <td>Research &amp; Development</td>\n",
              "      <td>8</td>\n",
              "      <td>1</td>\n",
              "      <td>Life Sciences</td>\n",
              "      <td>1</td>\n",
              "      <td>2</td>\n",
              "      <td>...</td>\n",
              "      <td>4</td>\n",
              "      <td>80</td>\n",
              "      <td>1</td>\n",
              "      <td>10</td>\n",
              "      <td>3</td>\n",
              "      <td>3</td>\n",
              "      <td>10</td>\n",
              "      <td>7</td>\n",
              "      <td>1</td>\n",
              "      <td>7</td>\n",
              "    </tr>\n",
              "    <tr>\n",
              "      <th>2</th>\n",
              "      <td>37</td>\n",
              "      <td>Yes</td>\n",
              "      <td>Travel_Rarely</td>\n",
              "      <td>1373</td>\n",
              "      <td>Research &amp; Development</td>\n",
              "      <td>2</td>\n",
              "      <td>2</td>\n",
              "      <td>Other</td>\n",
              "      <td>1</td>\n",
              "      <td>4</td>\n",
              "      <td>...</td>\n",
              "      <td>2</td>\n",
              "      <td>80</td>\n",
              "      <td>0</td>\n",
              "      <td>7</td>\n",
              "      <td>3</td>\n",
              "      <td>3</td>\n",
              "      <td>0</td>\n",
              "      <td>0</td>\n",
              "      <td>0</td>\n",
              "      <td>0</td>\n",
              "    </tr>\n",
              "    <tr>\n",
              "      <th>3</th>\n",
              "      <td>33</td>\n",
              "      <td>No</td>\n",
              "      <td>Travel_Frequently</td>\n",
              "      <td>1392</td>\n",
              "      <td>Research &amp; Development</td>\n",
              "      <td>3</td>\n",
              "      <td>4</td>\n",
              "      <td>Life Sciences</td>\n",
              "      <td>1</td>\n",
              "      <td>5</td>\n",
              "      <td>...</td>\n",
              "      <td>3</td>\n",
              "      <td>80</td>\n",
              "      <td>0</td>\n",
              "      <td>8</td>\n",
              "      <td>3</td>\n",
              "      <td>3</td>\n",
              "      <td>8</td>\n",
              "      <td>7</td>\n",
              "      <td>3</td>\n",
              "      <td>0</td>\n",
              "    </tr>\n",
              "    <tr>\n",
              "      <th>4</th>\n",
              "      <td>27</td>\n",
              "      <td>No</td>\n",
              "      <td>Travel_Rarely</td>\n",
              "      <td>591</td>\n",
              "      <td>Research &amp; Development</td>\n",
              "      <td>2</td>\n",
              "      <td>1</td>\n",
              "      <td>Medical</td>\n",
              "      <td>1</td>\n",
              "      <td>7</td>\n",
              "      <td>...</td>\n",
              "      <td>4</td>\n",
              "      <td>80</td>\n",
              "      <td>1</td>\n",
              "      <td>6</td>\n",
              "      <td>3</td>\n",
              "      <td>3</td>\n",
              "      <td>2</td>\n",
              "      <td>2</td>\n",
              "      <td>2</td>\n",
              "      <td>2</td>\n",
              "    </tr>\n",
              "  </tbody>\n",
              "</table>\n",
              "<p>5 rows × 35 columns</p>\n",
              "</div>\n",
              "    <div class=\"colab-df-buttons\">\n",
              "\n",
              "  <div class=\"colab-df-container\">\n",
              "    <button class=\"colab-df-convert\" onclick=\"convertToInteractive('df-1010efd0-2bc0-4e08-ac57-ea717051f363')\"\n",
              "            title=\"Convert this dataframe to an interactive table.\"\n",
              "            style=\"display:none;\">\n",
              "\n",
              "  <svg xmlns=\"http://www.w3.org/2000/svg\" height=\"24px\" viewBox=\"0 -960 960 960\">\n",
              "    <path d=\"M120-120v-720h720v720H120Zm60-500h600v-160H180v160Zm220 220h160v-160H400v160Zm0 220h160v-160H400v160ZM180-400h160v-160H180v160Zm440 0h160v-160H620v160ZM180-180h160v-160H180v160Zm440 0h160v-160H620v160Z\"/>\n",
              "  </svg>\n",
              "    </button>\n",
              "\n",
              "  <style>\n",
              "    .colab-df-container {\n",
              "      display:flex;\n",
              "      gap: 12px;\n",
              "    }\n",
              "\n",
              "    .colab-df-convert {\n",
              "      background-color: #E8F0FE;\n",
              "      border: none;\n",
              "      border-radius: 50%;\n",
              "      cursor: pointer;\n",
              "      display: none;\n",
              "      fill: #1967D2;\n",
              "      height: 32px;\n",
              "      padding: 0 0 0 0;\n",
              "      width: 32px;\n",
              "    }\n",
              "\n",
              "    .colab-df-convert:hover {\n",
              "      background-color: #E2EBFA;\n",
              "      box-shadow: 0px 1px 2px rgba(60, 64, 67, 0.3), 0px 1px 3px 1px rgba(60, 64, 67, 0.15);\n",
              "      fill: #174EA6;\n",
              "    }\n",
              "\n",
              "    .colab-df-buttons div {\n",
              "      margin-bottom: 4px;\n",
              "    }\n",
              "\n",
              "    [theme=dark] .colab-df-convert {\n",
              "      background-color: #3B4455;\n",
              "      fill: #D2E3FC;\n",
              "    }\n",
              "\n",
              "    [theme=dark] .colab-df-convert:hover {\n",
              "      background-color: #434B5C;\n",
              "      box-shadow: 0px 1px 3px 1px rgba(0, 0, 0, 0.15);\n",
              "      filter: drop-shadow(0px 1px 2px rgba(0, 0, 0, 0.3));\n",
              "      fill: #FFFFFF;\n",
              "    }\n",
              "  </style>\n",
              "\n",
              "    <script>\n",
              "      const buttonEl =\n",
              "        document.querySelector('#df-1010efd0-2bc0-4e08-ac57-ea717051f363 button.colab-df-convert');\n",
              "      buttonEl.style.display =\n",
              "        google.colab.kernel.accessAllowed ? 'block' : 'none';\n",
              "\n",
              "      async function convertToInteractive(key) {\n",
              "        const element = document.querySelector('#df-1010efd0-2bc0-4e08-ac57-ea717051f363');\n",
              "        const dataTable =\n",
              "          await google.colab.kernel.invokeFunction('convertToInteractive',\n",
              "                                                    [key], {});\n",
              "        if (!dataTable) return;\n",
              "\n",
              "        const docLinkHtml = 'Like what you see? Visit the ' +\n",
              "          '<a target=\"_blank\" href=https://colab.research.google.com/notebooks/data_table.ipynb>data table notebook</a>'\n",
              "          + ' to learn more about interactive tables.';\n",
              "        element.innerHTML = '';\n",
              "        dataTable['output_type'] = 'display_data';\n",
              "        await google.colab.output.renderOutput(dataTable, element);\n",
              "        const docLink = document.createElement('div');\n",
              "        docLink.innerHTML = docLinkHtml;\n",
              "        element.appendChild(docLink);\n",
              "      }\n",
              "    </script>\n",
              "  </div>\n",
              "\n",
              "\n",
              "<div id=\"df-68b2563d-b359-42fe-a0e7-3199e0c0c4f0\">\n",
              "  <button class=\"colab-df-quickchart\" onclick=\"quickchart('df-68b2563d-b359-42fe-a0e7-3199e0c0c4f0')\"\n",
              "            title=\"Suggest charts\"\n",
              "            style=\"display:none;\">\n",
              "\n",
              "<svg xmlns=\"http://www.w3.org/2000/svg\" height=\"24px\"viewBox=\"0 0 24 24\"\n",
              "     width=\"24px\">\n",
              "    <g>\n",
              "        <path d=\"M19 3H5c-1.1 0-2 .9-2 2v14c0 1.1.9 2 2 2h14c1.1 0 2-.9 2-2V5c0-1.1-.9-2-2-2zM9 17H7v-7h2v7zm4 0h-2V7h2v10zm4 0h-2v-4h2v4z\"/>\n",
              "    </g>\n",
              "</svg>\n",
              "  </button>\n",
              "\n",
              "<style>\n",
              "  .colab-df-quickchart {\n",
              "      --bg-color: #E8F0FE;\n",
              "      --fill-color: #1967D2;\n",
              "      --hover-bg-color: #E2EBFA;\n",
              "      --hover-fill-color: #174EA6;\n",
              "      --disabled-fill-color: #AAA;\n",
              "      --disabled-bg-color: #DDD;\n",
              "  }\n",
              "\n",
              "  [theme=dark] .colab-df-quickchart {\n",
              "      --bg-color: #3B4455;\n",
              "      --fill-color: #D2E3FC;\n",
              "      --hover-bg-color: #434B5C;\n",
              "      --hover-fill-color: #FFFFFF;\n",
              "      --disabled-bg-color: #3B4455;\n",
              "      --disabled-fill-color: #666;\n",
              "  }\n",
              "\n",
              "  .colab-df-quickchart {\n",
              "    background-color: var(--bg-color);\n",
              "    border: none;\n",
              "    border-radius: 50%;\n",
              "    cursor: pointer;\n",
              "    display: none;\n",
              "    fill: var(--fill-color);\n",
              "    height: 32px;\n",
              "    padding: 0;\n",
              "    width: 32px;\n",
              "  }\n",
              "\n",
              "  .colab-df-quickchart:hover {\n",
              "    background-color: var(--hover-bg-color);\n",
              "    box-shadow: 0 1px 2px rgba(60, 64, 67, 0.3), 0 1px 3px 1px rgba(60, 64, 67, 0.15);\n",
              "    fill: var(--button-hover-fill-color);\n",
              "  }\n",
              "\n",
              "  .colab-df-quickchart-complete:disabled,\n",
              "  .colab-df-quickchart-complete:disabled:hover {\n",
              "    background-color: var(--disabled-bg-color);\n",
              "    fill: var(--disabled-fill-color);\n",
              "    box-shadow: none;\n",
              "  }\n",
              "\n",
              "  .colab-df-spinner {\n",
              "    border: 2px solid var(--fill-color);\n",
              "    border-color: transparent;\n",
              "    border-bottom-color: var(--fill-color);\n",
              "    animation:\n",
              "      spin 1s steps(1) infinite;\n",
              "  }\n",
              "\n",
              "  @keyframes spin {\n",
              "    0% {\n",
              "      border-color: transparent;\n",
              "      border-bottom-color: var(--fill-color);\n",
              "      border-left-color: var(--fill-color);\n",
              "    }\n",
              "    20% {\n",
              "      border-color: transparent;\n",
              "      border-left-color: var(--fill-color);\n",
              "      border-top-color: var(--fill-color);\n",
              "    }\n",
              "    30% {\n",
              "      border-color: transparent;\n",
              "      border-left-color: var(--fill-color);\n",
              "      border-top-color: var(--fill-color);\n",
              "      border-right-color: var(--fill-color);\n",
              "    }\n",
              "    40% {\n",
              "      border-color: transparent;\n",
              "      border-right-color: var(--fill-color);\n",
              "      border-top-color: var(--fill-color);\n",
              "    }\n",
              "    60% {\n",
              "      border-color: transparent;\n",
              "      border-right-color: var(--fill-color);\n",
              "    }\n",
              "    80% {\n",
              "      border-color: transparent;\n",
              "      border-right-color: var(--fill-color);\n",
              "      border-bottom-color: var(--fill-color);\n",
              "    }\n",
              "    90% {\n",
              "      border-color: transparent;\n",
              "      border-bottom-color: var(--fill-color);\n",
              "    }\n",
              "  }\n",
              "</style>\n",
              "\n",
              "  <script>\n",
              "    async function quickchart(key) {\n",
              "      const quickchartButtonEl =\n",
              "        document.querySelector('#' + key + ' button');\n",
              "      quickchartButtonEl.disabled = true;  // To prevent multiple clicks.\n",
              "      quickchartButtonEl.classList.add('colab-df-spinner');\n",
              "      try {\n",
              "        const charts = await google.colab.kernel.invokeFunction(\n",
              "            'suggestCharts', [key], {});\n",
              "      } catch (error) {\n",
              "        console.error('Error during call to suggestCharts:', error);\n",
              "      }\n",
              "      quickchartButtonEl.classList.remove('colab-df-spinner');\n",
              "      quickchartButtonEl.classList.add('colab-df-quickchart-complete');\n",
              "    }\n",
              "    (() => {\n",
              "      let quickchartButtonEl =\n",
              "        document.querySelector('#df-68b2563d-b359-42fe-a0e7-3199e0c0c4f0 button');\n",
              "      quickchartButtonEl.style.display =\n",
              "        google.colab.kernel.accessAllowed ? 'block' : 'none';\n",
              "    })();\n",
              "  </script>\n",
              "</div>\n",
              "\n",
              "    </div>\n",
              "  </div>\n"
            ],
            "application/vnd.google.colaboratory.intrinsic+json": {
              "type": "dataframe",
              "variable_name": "df"
            }
          },
          "metadata": {},
          "execution_count": 4
        }
      ]
    },
    {
      "cell_type": "markdown",
      "source": [
        "- Age: Edad del trabajador. (Numérica)  \n",
        "- Attrition: Si el trabajador dejó la empresa o no. (Sí/No). (Categórica)  \n",
        "- BusinessTravel: Frecuencia con la que viaja por trabajo (Nunca, A veces, Frecuente). (Categórica)  \n",
        "- DailyRate: Pago diario del trabajador. (Numérica)  \n",
        "- Department: Área donde trabaja (como Ventas, Recursos Humanos, I+D, etc.). (Categórica)  \n",
        "- DistanceFromHome: Qué tan lejos vive el trabajador del lugar de trabajo. (Numérica)  \n",
        "- Education: Nivel de estudios alcanzado (1: Enseñanza media, 2: Técnico, 3: Universidad, 4: Magíster, 5: Doctorado). (Categórica ordinal)  \n",
        "- EducationField: Área en la que estudió el trabajador (Ej: Medicina, Marketing, Recursos Humanos, etc.). (Categórica)  \n",
        "- EmployeeCount: Siempre tiene el valor 1, así que no aporta información útil. (Numérica)  \n",
        "- EmployeeNumber: Número único que identifica al trabajador. (Numérica)  \n",
        "- EnvironmentSatisfaction: Qué tan conforme está con su ambiente laboral (1: Bajo, 4: Muy alto). (Categórica ordinal)  \n",
        "- Gender: Sexo del trabajador (Masculino/Femenino). (Categórica)  \n",
        "- HourlyRate: Cuánto le pagan por hora trabajada. (Numérica)  \n",
        "- JobInvolvement: Qué tan comprometido está el trabajador con su trabajo (1: Bajo, 4: Muy alto). (Categórica ordinal)  \n",
        "- JobLevel: Nivel del cargo del trabajador (1: Bajo, 2: Medio, 3: Alto, etc.). (Categórica ordinal)  \n",
        "- JobRole: Cargo o puesto específico del trabajador (Ej: Vendedor, Gerente, Investigador, etc.). (Categórica)  \n",
        "- JobSatisfaction: Nivel de satisfacción con su trabajo (1: Bajo, 4: Muy alto). (Categórica ordinal)  \n",
        "- MaritalStatus: Estado civil del trabajador (Soltero, Casado, Divorciado). (Categórica)  \n",
        "- MonthlyIncome: Sueldo mensual que recibe el trabajador. (Numérica)  \n",
        "- MonthlyRate: Pago mensual estándar. (Numérica)  \n",
        "- NumCompaniesWorked: Número de empresas en las que ha trabajado. (Numérica)  \n",
        "- Over18: Si es mayor de 18 años. (Sí/No). (Categórica)  \n",
        "- OverTime: Si trabaja horas extras o no. (Sí/No). (Categórica)  \n",
        "- PerformanceRating: Evaluación de desempeño del trabajador (1: Bajo, 4: Sobresaliente). (Categórica ordinal)  \n",
        "- RelationshipSatisfaction: Qué tan satisfecho está con sus relaciones en el trabajo (1: Bajo, 4: Muy alto). (Categórica ordinal)  \n",
        "- StandardHours: Cantidad de horas estándar que debe trabajar. (Numérica)  \n",
        "- StockOptionLevel: Nivel de beneficios en acciones que tiene el trabajador (0: Ninguno, 3: Alto). (Categórica ordinal)  \n",
        "- TotalWorkingYears: Años totales de experiencia laboral del trabajador. (Numérica)  \n",
        "- TrainingTimesLastYear: Cuántas veces recibió capacitación el año pasado. (Numérica)  \n",
        "- WorkLifeBalance: Equilibrio entre su vida personal y laboral (1: Malo, 4: Excelente). (Categórica ordinal)  \n",
        "- YearsAtCompany: Años que lleva en la empresa actual. (Numérica)  \n",
        "- YearsInCurrentRole: Años que lleva en su cargo actual. (Numérica)  \n",
        "- YearsSinceLastPromotion: Años desde su última promoción. (Numérica)  \n",
        "- YearsWithCurrManager: Años que ha trabajado con su jefe actual. (Numérica)  "
      ],
      "metadata": {
        "id": "bnvZzC-pqPSF"
      }
    },
    {
      "cell_type": "code",
      "source": [
        "df.describe() # Muestra un resumen con estadísticas básicas\n",
        "df['Age'].mean() # Calcula el promedio de la edad de todos los trabajadores\n",
        "df['MonthlyIncome'].median() # Entrega la mediana del ingreso mensual (el valor que está justo en la mitad si ordenamos todos los sueldos)\n",
        "df['YearsAtCompany'].std() # Calcula qué tanto varía (o se dispersa) la cantidad de años que llevan los trabajadores en la empresa"
      ],
      "metadata": {
        "colab": {
          "base_uri": "https://localhost:8080/"
        },
        "id": "bFQtPYDAqeY9",
        "outputId": "1825601a-5b18-44b7-c9d5-11632d71bdbc"
      },
      "execution_count": 5,
      "outputs": [
        {
          "output_type": "execute_result",
          "data": {
            "text/plain": [
              "6.126525152403566"
            ]
          },
          "metadata": {},
          "execution_count": 5
        }
      ]
    },
    {
      "cell_type": "markdown",
      "source": [
        "La antigüedad de los trabajadores no está concentrada en un mismo rango, sino que hay bastante diversidad en los años que llevan trabajando.\n",
        "\n",
        "En conclusión esto puede reflejar que la empresa tiene tanto empleados nuevos como veteranos, lo que podría ser una oportunidad para crear estrategias de integración, mentoring o desarrollo interno."
      ],
      "metadata": {
        "id": "qln_2_qIyhpB"
      }
    },
    {
      "cell_type": "code",
      "source": [
        "# Calcular la correlación entre 'Age' (Edad) e 'Income' (Ingreso)\n",
        "df[['Age', 'MonthlyIncome']].corr()  # Calcula la correlación entre las variables 'Age' e 'MonthlyIncome'"
      ],
      "metadata": {
        "colab": {
          "base_uri": "https://localhost:8080/",
          "height": 112
        },
        "id": "tfn9t0GeqigC",
        "outputId": "072970af-df5a-4fc3-a910-d93b9ee64fb7"
      },
      "execution_count": 9,
      "outputs": [
        {
          "output_type": "execute_result",
          "data": {
            "text/plain": [
              "                    Age  MonthlyIncome\n",
              "Age            1.000000       0.497855\n",
              "MonthlyIncome  0.497855       1.000000"
            ],
            "text/html": [
              "\n",
              "  <div id=\"df-c3391202-0e6b-4b7e-9bb3-d05063d69655\" class=\"colab-df-container\">\n",
              "    <div>\n",
              "<style scoped>\n",
              "    .dataframe tbody tr th:only-of-type {\n",
              "        vertical-align: middle;\n",
              "    }\n",
              "\n",
              "    .dataframe tbody tr th {\n",
              "        vertical-align: top;\n",
              "    }\n",
              "\n",
              "    .dataframe thead th {\n",
              "        text-align: right;\n",
              "    }\n",
              "</style>\n",
              "<table border=\"1\" class=\"dataframe\">\n",
              "  <thead>\n",
              "    <tr style=\"text-align: right;\">\n",
              "      <th></th>\n",
              "      <th>Age</th>\n",
              "      <th>MonthlyIncome</th>\n",
              "    </tr>\n",
              "  </thead>\n",
              "  <tbody>\n",
              "    <tr>\n",
              "      <th>Age</th>\n",
              "      <td>1.000000</td>\n",
              "      <td>0.497855</td>\n",
              "    </tr>\n",
              "    <tr>\n",
              "      <th>MonthlyIncome</th>\n",
              "      <td>0.497855</td>\n",
              "      <td>1.000000</td>\n",
              "    </tr>\n",
              "  </tbody>\n",
              "</table>\n",
              "</div>\n",
              "    <div class=\"colab-df-buttons\">\n",
              "\n",
              "  <div class=\"colab-df-container\">\n",
              "    <button class=\"colab-df-convert\" onclick=\"convertToInteractive('df-c3391202-0e6b-4b7e-9bb3-d05063d69655')\"\n",
              "            title=\"Convert this dataframe to an interactive table.\"\n",
              "            style=\"display:none;\">\n",
              "\n",
              "  <svg xmlns=\"http://www.w3.org/2000/svg\" height=\"24px\" viewBox=\"0 -960 960 960\">\n",
              "    <path d=\"M120-120v-720h720v720H120Zm60-500h600v-160H180v160Zm220 220h160v-160H400v160Zm0 220h160v-160H400v160ZM180-400h160v-160H180v160Zm440 0h160v-160H620v160ZM180-180h160v-160H180v160Zm440 0h160v-160H620v160Z\"/>\n",
              "  </svg>\n",
              "    </button>\n",
              "\n",
              "  <style>\n",
              "    .colab-df-container {\n",
              "      display:flex;\n",
              "      gap: 12px;\n",
              "    }\n",
              "\n",
              "    .colab-df-convert {\n",
              "      background-color: #E8F0FE;\n",
              "      border: none;\n",
              "      border-radius: 50%;\n",
              "      cursor: pointer;\n",
              "      display: none;\n",
              "      fill: #1967D2;\n",
              "      height: 32px;\n",
              "      padding: 0 0 0 0;\n",
              "      width: 32px;\n",
              "    }\n",
              "\n",
              "    .colab-df-convert:hover {\n",
              "      background-color: #E2EBFA;\n",
              "      box-shadow: 0px 1px 2px rgba(60, 64, 67, 0.3), 0px 1px 3px 1px rgba(60, 64, 67, 0.15);\n",
              "      fill: #174EA6;\n",
              "    }\n",
              "\n",
              "    .colab-df-buttons div {\n",
              "      margin-bottom: 4px;\n",
              "    }\n",
              "\n",
              "    [theme=dark] .colab-df-convert {\n",
              "      background-color: #3B4455;\n",
              "      fill: #D2E3FC;\n",
              "    }\n",
              "\n",
              "    [theme=dark] .colab-df-convert:hover {\n",
              "      background-color: #434B5C;\n",
              "      box-shadow: 0px 1px 3px 1px rgba(0, 0, 0, 0.15);\n",
              "      filter: drop-shadow(0px 1px 2px rgba(0, 0, 0, 0.3));\n",
              "      fill: #FFFFFF;\n",
              "    }\n",
              "  </style>\n",
              "\n",
              "    <script>\n",
              "      const buttonEl =\n",
              "        document.querySelector('#df-c3391202-0e6b-4b7e-9bb3-d05063d69655 button.colab-df-convert');\n",
              "      buttonEl.style.display =\n",
              "        google.colab.kernel.accessAllowed ? 'block' : 'none';\n",
              "\n",
              "      async function convertToInteractive(key) {\n",
              "        const element = document.querySelector('#df-c3391202-0e6b-4b7e-9bb3-d05063d69655');\n",
              "        const dataTable =\n",
              "          await google.colab.kernel.invokeFunction('convertToInteractive',\n",
              "                                                    [key], {});\n",
              "        if (!dataTable) return;\n",
              "\n",
              "        const docLinkHtml = 'Like what you see? Visit the ' +\n",
              "          '<a target=\"_blank\" href=https://colab.research.google.com/notebooks/data_table.ipynb>data table notebook</a>'\n",
              "          + ' to learn more about interactive tables.';\n",
              "        element.innerHTML = '';\n",
              "        dataTable['output_type'] = 'display_data';\n",
              "        await google.colab.output.renderOutput(dataTable, element);\n",
              "        const docLink = document.createElement('div');\n",
              "        docLink.innerHTML = docLinkHtml;\n",
              "        element.appendChild(docLink);\n",
              "      }\n",
              "    </script>\n",
              "  </div>\n",
              "\n",
              "\n",
              "<div id=\"df-af648cd9-8b81-42a7-993d-8865b5922ea5\">\n",
              "  <button class=\"colab-df-quickchart\" onclick=\"quickchart('df-af648cd9-8b81-42a7-993d-8865b5922ea5')\"\n",
              "            title=\"Suggest charts\"\n",
              "            style=\"display:none;\">\n",
              "\n",
              "<svg xmlns=\"http://www.w3.org/2000/svg\" height=\"24px\"viewBox=\"0 0 24 24\"\n",
              "     width=\"24px\">\n",
              "    <g>\n",
              "        <path d=\"M19 3H5c-1.1 0-2 .9-2 2v14c0 1.1.9 2 2 2h14c1.1 0 2-.9 2-2V5c0-1.1-.9-2-2-2zM9 17H7v-7h2v7zm4 0h-2V7h2v10zm4 0h-2v-4h2v4z\"/>\n",
              "    </g>\n",
              "</svg>\n",
              "  </button>\n",
              "\n",
              "<style>\n",
              "  .colab-df-quickchart {\n",
              "      --bg-color: #E8F0FE;\n",
              "      --fill-color: #1967D2;\n",
              "      --hover-bg-color: #E2EBFA;\n",
              "      --hover-fill-color: #174EA6;\n",
              "      --disabled-fill-color: #AAA;\n",
              "      --disabled-bg-color: #DDD;\n",
              "  }\n",
              "\n",
              "  [theme=dark] .colab-df-quickchart {\n",
              "      --bg-color: #3B4455;\n",
              "      --fill-color: #D2E3FC;\n",
              "      --hover-bg-color: #434B5C;\n",
              "      --hover-fill-color: #FFFFFF;\n",
              "      --disabled-bg-color: #3B4455;\n",
              "      --disabled-fill-color: #666;\n",
              "  }\n",
              "\n",
              "  .colab-df-quickchart {\n",
              "    background-color: var(--bg-color);\n",
              "    border: none;\n",
              "    border-radius: 50%;\n",
              "    cursor: pointer;\n",
              "    display: none;\n",
              "    fill: var(--fill-color);\n",
              "    height: 32px;\n",
              "    padding: 0;\n",
              "    width: 32px;\n",
              "  }\n",
              "\n",
              "  .colab-df-quickchart:hover {\n",
              "    background-color: var(--hover-bg-color);\n",
              "    box-shadow: 0 1px 2px rgba(60, 64, 67, 0.3), 0 1px 3px 1px rgba(60, 64, 67, 0.15);\n",
              "    fill: var(--button-hover-fill-color);\n",
              "  }\n",
              "\n",
              "  .colab-df-quickchart-complete:disabled,\n",
              "  .colab-df-quickchart-complete:disabled:hover {\n",
              "    background-color: var(--disabled-bg-color);\n",
              "    fill: var(--disabled-fill-color);\n",
              "    box-shadow: none;\n",
              "  }\n",
              "\n",
              "  .colab-df-spinner {\n",
              "    border: 2px solid var(--fill-color);\n",
              "    border-color: transparent;\n",
              "    border-bottom-color: var(--fill-color);\n",
              "    animation:\n",
              "      spin 1s steps(1) infinite;\n",
              "  }\n",
              "\n",
              "  @keyframes spin {\n",
              "    0% {\n",
              "      border-color: transparent;\n",
              "      border-bottom-color: var(--fill-color);\n",
              "      border-left-color: var(--fill-color);\n",
              "    }\n",
              "    20% {\n",
              "      border-color: transparent;\n",
              "      border-left-color: var(--fill-color);\n",
              "      border-top-color: var(--fill-color);\n",
              "    }\n",
              "    30% {\n",
              "      border-color: transparent;\n",
              "      border-left-color: var(--fill-color);\n",
              "      border-top-color: var(--fill-color);\n",
              "      border-right-color: var(--fill-color);\n",
              "    }\n",
              "    40% {\n",
              "      border-color: transparent;\n",
              "      border-right-color: var(--fill-color);\n",
              "      border-top-color: var(--fill-color);\n",
              "    }\n",
              "    60% {\n",
              "      border-color: transparent;\n",
              "      border-right-color: var(--fill-color);\n",
              "    }\n",
              "    80% {\n",
              "      border-color: transparent;\n",
              "      border-right-color: var(--fill-color);\n",
              "      border-bottom-color: var(--fill-color);\n",
              "    }\n",
              "    90% {\n",
              "      border-color: transparent;\n",
              "      border-bottom-color: var(--fill-color);\n",
              "    }\n",
              "  }\n",
              "</style>\n",
              "\n",
              "  <script>\n",
              "    async function quickchart(key) {\n",
              "      const quickchartButtonEl =\n",
              "        document.querySelector('#' + key + ' button');\n",
              "      quickchartButtonEl.disabled = true;  // To prevent multiple clicks.\n",
              "      quickchartButtonEl.classList.add('colab-df-spinner');\n",
              "      try {\n",
              "        const charts = await google.colab.kernel.invokeFunction(\n",
              "            'suggestCharts', [key], {});\n",
              "      } catch (error) {\n",
              "        console.error('Error during call to suggestCharts:', error);\n",
              "      }\n",
              "      quickchartButtonEl.classList.remove('colab-df-spinner');\n",
              "      quickchartButtonEl.classList.add('colab-df-quickchart-complete');\n",
              "    }\n",
              "    (() => {\n",
              "      let quickchartButtonEl =\n",
              "        document.querySelector('#df-af648cd9-8b81-42a7-993d-8865b5922ea5 button');\n",
              "      quickchartButtonEl.style.display =\n",
              "        google.colab.kernel.accessAllowed ? 'block' : 'none';\n",
              "    })();\n",
              "  </script>\n",
              "</div>\n",
              "\n",
              "    </div>\n",
              "  </div>\n"
            ],
            "application/vnd.google.colaboratory.intrinsic+json": {
              "type": "dataframe",
              "summary": "{\n  \"name\": \"df[['Age', 'MonthlyIncome']]\",\n  \"rows\": 2,\n  \"fields\": [\n    {\n      \"column\": \"Age\",\n      \"properties\": {\n        \"dtype\": \"number\",\n        \"std\": 0.3550704408680709,\n        \"min\": 0.4978545669265801,\n        \"max\": 1.0,\n        \"num_unique_values\": 2,\n        \"samples\": [\n          0.4978545669265801,\n          1.0\n        ],\n        \"semantic_type\": \"\",\n        \"description\": \"\"\n      }\n    },\n    {\n      \"column\": \"MonthlyIncome\",\n      \"properties\": {\n        \"dtype\": \"number\",\n        \"std\": 0.3550704408680709,\n        \"min\": 0.4978545669265801,\n        \"max\": 1.0,\n        \"num_unique_values\": 2,\n        \"samples\": [\n          1.0,\n          0.4978545669265801\n        ],\n        \"semantic_type\": \"\",\n        \"description\": \"\"\n      }\n    }\n  ]\n}"
            }
          },
          "metadata": {},
          "execution_count": 9
        }
      ]
    },
    {
      "cell_type": "markdown",
      "source": [
        "El valor 0.497855 indica una correlación positiva moderada entre la edad y el ingreso mensual.\n",
        "\n",
        "Esto significa que a medida que aumenta la edad de los empleados, también tiende a aumentar su ingreso mensual.\n",
        "\n",
        "En conclusión esta correlación sugiere que la edad puede estar asociada con más experiencia o antigüedad, lo que a su vez se traduce en mejores sueldos."
      ],
      "metadata": {
        "id": "tPpEpfwix6_s"
      }
    },
    {
      "cell_type": "code",
      "source": [
        "# Realizar una prueba t para comparar los ingresos de empleados que renunciaron vs los que no\n",
        "df.groupby('Attrition')['MonthlyIncome'].mean()  # Calcula la media de 'MonthlyIncome' agrupado por la variable 'Attrition' (renunció o no)"
      ],
      "metadata": {
        "colab": {
          "base_uri": "https://localhost:8080/",
          "height": 178
        },
        "id": "Ryjoj_GXqvSd",
        "outputId": "a0f29aa2-bdf3-434b-b6cb-98d400d457cb"
      },
      "execution_count": 7,
      "outputs": [
        {
          "output_type": "execute_result",
          "data": {
            "text/plain": [
              "Attrition\n",
              "No     6832.739659\n",
              "Yes    4787.092827\n",
              "Name: MonthlyIncome, dtype: float64"
            ],
            "text/html": [
              "<div>\n",
              "<style scoped>\n",
              "    .dataframe tbody tr th:only-of-type {\n",
              "        vertical-align: middle;\n",
              "    }\n",
              "\n",
              "    .dataframe tbody tr th {\n",
              "        vertical-align: top;\n",
              "    }\n",
              "\n",
              "    .dataframe thead th {\n",
              "        text-align: right;\n",
              "    }\n",
              "</style>\n",
              "<table border=\"1\" class=\"dataframe\">\n",
              "  <thead>\n",
              "    <tr style=\"text-align: right;\">\n",
              "      <th></th>\n",
              "      <th>MonthlyIncome</th>\n",
              "    </tr>\n",
              "    <tr>\n",
              "      <th>Attrition</th>\n",
              "      <th></th>\n",
              "    </tr>\n",
              "  </thead>\n",
              "  <tbody>\n",
              "    <tr>\n",
              "      <th>No</th>\n",
              "      <td>6832.739659</td>\n",
              "    </tr>\n",
              "    <tr>\n",
              "      <th>Yes</th>\n",
              "      <td>4787.092827</td>\n",
              "    </tr>\n",
              "  </tbody>\n",
              "</table>\n",
              "</div><br><label><b>dtype:</b> float64</label>"
            ]
          },
          "metadata": {},
          "execution_count": 7
        }
      ]
    },
    {
      "cell_type": "markdown",
      "source": [
        "Estos resultados reflejan una diferencia clara en los ingresos mensuales entre los empleados que se quedaron en la empresa y los que renunciaron.\n",
        "\n",
        "Implica que los empleados con ingresos más bajos tienden a abandonar la empresa con mayor frecuencia.\n",
        "\n",
        "En conclusión este hallazgo puede ser clave para detectar riesgos de rotación laboral y considerar ajustes salariales o beneficios como estrategia de retención."
      ],
      "metadata": {
        "id": "T9tmnNnlxlyy"
      }
    },
    {
      "cell_type": "code",
      "source": [
        "# Aplicar la prueba t de Student entre los dos grupos (renunciaron vs no renunciaron)\n",
        "t_stat, p_value = stats.ttest_ind(df[df['Attrition'] == 'Yes']['MonthlyIncome'],\n",
        "                                  df[df['Attrition'] == 'No']['MonthlyIncome'])  # Compara las medias de 'MonthlyIncome' entre los dos grupos usando la prueba t\n",
        "# Imprimir el valor p de la prueba t\n",
        "print(f'Valor p de la prueba t: {p_value}')  # Muestra el valor p de la prueba t para determinar si hay diferencia significativa"
      ],
      "metadata": {
        "colab": {
          "base_uri": "https://localhost:8080/"
        },
        "id": "sdYPz2SMq-Y3",
        "outputId": "03bab971-34f1-45ec-a2fa-6dda497c7e3f"
      },
      "execution_count": 11,
      "outputs": [
        {
          "output_type": "stream",
          "name": "stdout",
          "text": [
            "Valor p de la prueba t: 7.147363985353811e-10\n"
          ]
        }
      ]
    },
    {
      "cell_type": "markdown",
      "source": [
        "En conclusión los resultados sugieren que el salario mensual influye en la decisión de renunciar o quedarse. Es probable que exista una diferencia significativa entre los sueldos de quienes renuncian y quienes permanecen en la empresa."
      ],
      "metadata": {
        "id": "cxKQ0gi3wyCZ"
      }
    },
    {
      "cell_type": "code",
      "source": [
        "# Visualización de la distribución del ingreso mensual con un histograma\n",
        "sns.histplot(df['MonthlyIncome'], kde=True)  # Grafica un histograma y una estimación de densidad de la variable 'MonthlyIncome'\n",
        "plt.title('Distribución del Ingreso Mensual')  # Título para la gráfica\n",
        "plt.show()  # Muestra la gráfica"
      ],
      "metadata": {
        "colab": {
          "base_uri": "https://localhost:8080/",
          "height": 472
        },
        "id": "We3zilSuq-RD",
        "outputId": "ec85f09b-bcb2-44c8-f1c8-a78aa85e60d9"
      },
      "execution_count": 12,
      "outputs": [
        {
          "output_type": "display_data",
          "data": {
            "text/plain": [
              "<Figure size 640x480 with 1 Axes>"
            ],
            "image/png": "[encoded data removed]"
          },
          "metadata": {}
        }
      ]
    },
    {
      "cell_type": "markdown",
      "source": [
        "El histograma y la curva KDE te proporcionan una visualización de la distribución del ingreso mensual, lo que te permite comprender mejor las características de los datos y sacar conclusiones sobre los ingresos de los empleados.\n",
        "\n",
        "En este se visualiza que La mayoría de los trabajadores tiene un ingreso mensual entre 2.500 y 5.000 unidades monetarias.\n",
        "\n",
        "Hay una alta concentración en los ingresos bajos , lo cual se ve reflejado en las primeras barras altas del histograma.\n",
        "\n",
        "Hay algunos trabajadores con ingresos mensuales cercanos a los 20,000 , pero son pocos (valores atípicos o extremos).\n",
        "\n",
        "Y por último la curva de densidad (línea azul) : Muestra una estimación suave de la distribución de los ingresos, lo cual ayuda a visualizar mejor la forma de la distribución. Reafirma la idea de que la distribución está sesgada a la derecha."
      ],
      "metadata": {
        "id": "06wgsisKs0Dv"
      }
    },
    {
      "cell_type": "code",
      "source": [
        "# Calcular la frecuencia de cada valor de 'JobRole' (Rol de trabajo)\n",
        "df['JobRole'].value_counts()  # Cuenta cuántos empleados tienen cada rol de trabajo y muestra las frecuencias"
      ],
      "metadata": {
        "colab": {
          "base_uri": "https://localhost:8080/",
          "height": 397
        },
        "id": "XZXwMRCBq-Hc",
        "outputId": "8b9b52e1-488d-4cac-a77f-ecc23342805b"
      },
      "execution_count": 13,
      "outputs": [
        {
          "output_type": "execute_result",
          "data": {
            "text/plain": [
              "JobRole\n",
              "Sales Executive              326\n",
              "Research Scientist           292\n",
              "Laboratory Technician        259\n",
              "Manufacturing Director       145\n",
              "Healthcare Representative    131\n",
              "Manager                      102\n",
              "Sales Representative          83\n",
              "Research Director             80\n",
              "Human Resources               52\n",
              "Name: count, dtype: int64"
            ],
            "text/html": [
              "<div>\n",
              "<style scoped>\n",
              "    .dataframe tbody tr th:only-of-type {\n",
              "        vertical-align: middle;\n",
              "    }\n",
              "\n",
              "    .dataframe tbody tr th {\n",
              "        vertical-align: top;\n",
              "    }\n",
              "\n",
              "    .dataframe thead th {\n",
              "        text-align: right;\n",
              "    }\n",
              "</style>\n",
              "<table border=\"1\" class=\"dataframe\">\n",
              "  <thead>\n",
              "    <tr style=\"text-align: right;\">\n",
              "      <th></th>\n",
              "      <th>count</th>\n",
              "    </tr>\n",
              "    <tr>\n",
              "      <th>JobRole</th>\n",
              "      <th></th>\n",
              "    </tr>\n",
              "  </thead>\n",
              "  <tbody>\n",
              "    <tr>\n",
              "      <th>Sales Executive</th>\n",
              "      <td>326</td>\n",
              "    </tr>\n",
              "    <tr>\n",
              "      <th>Research Scientist</th>\n",
              "      <td>292</td>\n",
              "    </tr>\n",
              "    <tr>\n",
              "      <th>Laboratory Technician</th>\n",
              "      <td>259</td>\n",
              "    </tr>\n",
              "    <tr>\n",
              "      <th>Manufacturing Director</th>\n",
              "      <td>145</td>\n",
              "    </tr>\n",
              "    <tr>\n",
              "      <th>Healthcare Representative</th>\n",
              "      <td>131</td>\n",
              "    </tr>\n",
              "    <tr>\n",
              "      <th>Manager</th>\n",
              "      <td>102</td>\n",
              "    </tr>\n",
              "    <tr>\n",
              "      <th>Sales Representative</th>\n",
              "      <td>83</td>\n",
              "    </tr>\n",
              "    <tr>\n",
              "      <th>Research Director</th>\n",
              "      <td>80</td>\n",
              "    </tr>\n",
              "    <tr>\n",
              "      <th>Human Resources</th>\n",
              "      <td>52</td>\n",
              "    </tr>\n",
              "  </tbody>\n",
              "</table>\n",
              "</div><br><label><b>dtype:</b> int64</label>"
            ]
          },
          "metadata": {},
          "execution_count": 13
        }
      ]
    },
    {
      "cell_type": "markdown",
      "source": [
        "1.Sales Executive (326): Este cargo tiene el mayor número de empleados, lo que indica que es un puesto común en la empresa;\n",
        "\n",
        "2.Human Resources (52): Los empleados del área de recursos humanos son los menos numerosos en este conjunto"
      ],
      "metadata": {
        "id": "pFF19Y2SuVmT"
      }
    },
    {
      "cell_type": "code",
      "source": [
        "# Crear una tabla de frecuencias relativas para la variable 'Gender' (Género)\n",
        "df['Gender'].value_counts(normalize=True)  # Calcula las frecuencias relativas para la variable 'Gender'"
      ],
      "metadata": {
        "colab": {
          "base_uri": "https://localhost:8080/",
          "height": 178
        },
        "id": "IT1TKw7srTPh",
        "outputId": "55ca4b56-b812-449f-90e0-72f02d983655"
      },
      "execution_count": 14,
      "outputs": [
        {
          "output_type": "execute_result",
          "data": {
            "text/plain": [
              "Gender\n",
              "Male      0.6\n",
              "Female    0.4\n",
              "Name: proportion, dtype: float64"
            ],
            "text/html": [
              "<div>\n",
              "<style scoped>\n",
              "    .dataframe tbody tr th:only-of-type {\n",
              "        vertical-align: middle;\n",
              "    }\n",
              "\n",
              "    .dataframe tbody tr th {\n",
              "        vertical-align: top;\n",
              "    }\n",
              "\n",
              "    .dataframe thead th {\n",
              "        text-align: right;\n",
              "    }\n",
              "</style>\n",
              "<table border=\"1\" class=\"dataframe\">\n",
              "  <thead>\n",
              "    <tr style=\"text-align: right;\">\n",
              "      <th></th>\n",
              "      <th>proportion</th>\n",
              "    </tr>\n",
              "    <tr>\n",
              "      <th>Gender</th>\n",
              "      <th></th>\n",
              "    </tr>\n",
              "  </thead>\n",
              "  <tbody>\n",
              "    <tr>\n",
              "      <th>Male</th>\n",
              "      <td>0.6</td>\n",
              "    </tr>\n",
              "    <tr>\n",
              "      <th>Female</th>\n",
              "      <td>0.4</td>\n",
              "    </tr>\n",
              "  </tbody>\n",
              "</table>\n",
              "</div><br><label><b>dtype:</b> float64</label>"
            ]
          },
          "metadata": {},
          "execution_count": 14
        }
      ]
    },
    {
      "cell_type": "markdown",
      "source": [
        "Male (0.6):\n",
        "El 60% de los empleados de la empresa son masculinos. Esto indica que la mayoría de los empleados en la empresa son hombres.\n",
        "\n",
        "Female (0.4):\n",
        "El 40% de los empleados son femeninos. Aunque la presencia femenina en la empresa es significativa, aún representa un porcentaje menor que el de los empleados masculinos.\n",
        "\n",
        "En conclusión el análisis de la frecuencia relativa muestra que el 60% de los empleados son hombres y el 40% son mujeres. Esto permite entender la distribución de género en la empresa de manera porcentual, y en este caso, indica una mayor representación de hombres que de mujeres."
      ],
      "metadata": {
        "id": "bHJNky4awXbZ"
      }
    },
    {
      "cell_type": "code",
      "source": [
        "# Graficar la distribución de la edad con un boxplot\n",
        "sns.boxplot(x='Age', data=df)  # Dibuja un boxplot para mostrar la distribución de la edad\n",
        "plt.title('Distribución de la Edad')  # Título para la gráfica\n",
        "plt.show()  # Muestra la gráfica"
      ],
      "metadata": {
        "colab": {
          "base_uri": "https://localhost:8080/",
          "height": 472
        },
        "id": "qQuCTfGprTLz",
        "outputId": "6d14537c-ee29-413c-eb29-49bec4889775"
      },
      "execution_count": 15,
      "outputs": [
        {
          "output_type": "display_data",
          "data": {
            "text/plain": [
              "<Figure size 640x480 with 1 Axes>"
            ],
            "image/png": "[encoded data removed]"
          },
          "metadata": {}
        }
      ]
    },
    {
      "cell_type": "markdown",
      "source": [
        "La imagen muestra un grafico boxplot que representa la distribución de la edad (Age) en una población.\n",
        "\n",
        "Interpretación del gráfico:\n",
        "   - La línea dentro de la caja indica la mediana, que está cerca de los 35 años.\n",
        "   - Las líneas horizontales que salen de la caja se extienden desde el mínimo hasta el máximo sin indicar la presencia de outliers (valores atípicos), lo cual sugiere que no hay edades fuera del rango esperado.\n",
        "   - Los cuartiles están aproximadamente distribuidos de manera simétrica, por lo que la distribución parece bastante balanceada, sin un sesgo claro hacia la izquierda o derecha.\n",
        "\n",
        "En conclusión la mayoría de las personas en la muestra tienen edades entre 30 y 45 años, con una mediana alrededor de los 35 años. No hay valores extremos aparentes y la distribución de la edad parece uniformemente repartida en ese rango."
      ],
      "metadata": {
        "id": "zvTAZ1WmvFRs"
      }
    },
    {
      "cell_type": "code",
      "source": [
        "# Realizar una prueba de normalidad en los ingresos mensuales usando el test de Shapiro-Wilk\n",
        "stat, p_value = stats.shapiro(df['MonthlyIncome'].dropna())  # Test de normalidad de Shapiro-Wilk para los ingresos\n",
        "print(f'Valor p de la prueba de normalidad: {p_value}')  # Muestra el valor p de la prueba de normalidad"
      ],
      "metadata": {
        "colab": {
          "base_uri": "https://localhost:8080/"
        },
        "id": "2Um01yuTrTGq",
        "outputId": "66ee3a49-70be-470c-a790-e1108d8c4770"
      },
      "execution_count": 16,
      "outputs": [
        {
          "output_type": "stream",
          "name": "stdout",
          "text": [
            "Valor p de la prueba de normalidad: 4.40239403650134e-37\n"
          ]
        }
      ]
    },
    {
      "cell_type": "markdown",
      "source": [
        "Conclusión:\n",
        "Dado que el valor p es extremadamente pequeño, se rechaza la hipótesis nula, lo que significa que los ingresos mensuales no siguen una distribución normal.\n",
        "\n",
        "Esto indica que los ingresos mensuales en tu conjunto de datos tienen una distribución asimétrica o sesgada (posiblemente con una cola larga, lo que es común en los datos salariales, donde hay un pequeño número de empleados con ingresos muy altos).\n",
        "\n",
        "Este tipo de resultado es importante porque, si los datos no siguen una distribución normal, debes tener cuidado al aplicar técnicas estadísticas que asumen normalidad (como las pruebas paramétricas). En este caso, podrías considerar el uso de métodos no paramétricos o transformaciones de datos para aproximar la normalidad si es necesario."
      ],
      "metadata": {
        "id": "lh1je4JAwIxa"
      }
    },
    {
      "cell_type": "code",
      "source": [
        "# Calcular la covarianza entre 'Age' e 'MonthlyIncome'\n",
        "cov_matrix = df[['Age', 'MonthlyIncome']].cov()  # Calcula la matriz de covarianza entre las dos variables\n",
        "print(f'Covarianza entre Age e Ingreso Mensual:\\n{cov_matrix}')  # Imprime la covarianza"
      ],
      "metadata": {
        "colab": {
          "base_uri": "https://localhost:8080/"
        },
        "id": "P5OOFYQErkXK",
        "outputId": "b4442d0c-b9b0-4c50-f5bb-e5ee1a03f6ea"
      },
      "execution_count": 17,
      "outputs": [
        {
          "output_type": "stream",
          "name": "stdout",
          "text": [
            "Covarianza entre Age e Ingreso Mensual:\n",
            "                        Age  MonthlyIncome\n",
            "Age               83.455049   2.141220e+04\n",
            "MonthlyIncome  21412.198982   2.216486e+07\n"
          ]
        }
      ]
    },
    {
      "cell_type": "markdown",
      "source": [
        "En conclusión este resultado refuerza lo observado con la correlación: hay una relación positiva entre edad e ingreso mensual.\n",
        "Es decir, los empleados más viejos tienden a ganar más."
      ],
      "metadata": {
        "id": "-DhcZmSbzAOQ"
      }
    },
    {
      "cell_type": "code",
      "source": [
        "# Verificar si hay valores atípicos en los ingresos mensuales\n",
        "sns.boxplot(x=df['MonthlyIncome'])  # Muestra un boxplot para identificar posibles valores atípicos en 'MonthlyIncome'\n",
        "plt.show()  # Muestra la gráfica"
      ],
      "metadata": {
        "colab": {
          "base_uri": "https://localhost:8080/",
          "height": 449
        },
        "id": "nRsVcmS4rTC4",
        "outputId": "df545b26-d56c-472b-c69d-adaa2260298b"
      },
      "execution_count": 18,
      "outputs": [
        {
          "output_type": "display_data",
          "data": {
            "text/plain": [
              "<Figure size 640x480 with 1 Axes>"
            ],
            "image/png": "[encoded data removed]"
          },
          "metadata": {}
        }
      ]
    },
    {
      "cell_type": "markdown",
      "source": [
        "Interpretación del gráfico:\n",
        "Caja (rectángulo azul):\n",
        "   - Contiene el 50% central de los datos (del primer al tercer cuartil).\n",
        "   - La mediana (línea negra dentro de la caja) está alrededor de los 6,000 unidades monetarias, lo que indica que el 50% de los individuos ganan menos de esa cantidad.\n",
        "\n",
        "Líneas horizontales:\n",
        "   - Se extienden desde los valores más bajos y más altos que no son considerados valores atípicos.\n",
        "   - El ingreso se considera dentro de un rango razonable hasta unos 15,000 aproximadamente.\n",
        "\n",
        "Puntos a la derecha (outliers):\n",
        "   - Representan valores atípicos, es decir, personas que tienen ingresos significativamente superiores al resto.\n",
        "   - Hay un número considerable de individuos con ingresos mensuales superiores a 15,000, llegando hasta casi 20,000.\n",
        "\n",
        "\n",
        "En conclusión la mayoría de las personas tienen ingresos que van de aproximadamente 2,000 a 10,000 unidades, con una mediana cerca de los 6,000. No obstante, existe un grupo de individuos con ingresos muy superiores al promedio, lo cual genera una cola larga hacia la derecha e indica desigualdad significativa en la distribución de los ingresos."
      ],
      "metadata": {
        "id": "MjNUpE5hzWD1"
      }
    },
    {
      "cell_type": "markdown",
      "source": [
        "RESUMEN\n",
        "Se realizó un análisis de datos utilizando tanto estadística descriptiva como estadística inferencial para explorar y entender los datos relacionados con los empleados de una empresa.\n",
        "\n",
        "1. Estadística Descriptiva vs Inferencial:  \n",
        "   - La estadística descriptiva permitió obtener un resumen general de las variables numéricas, como la media y la desviación estándar.  \n",
        "   - La estadística inferencial se usó para realizar una prueba t, comparando los ingresos de los empleados que renunciaron con los que no. Esto permitió verificar si había diferencias significativas entre ambos grupos.\n",
        "\n",
        "2. Tipos de Datos:  \n",
        "   Se identificaron dos tipos de datos: numéricos (como edad e ingresos) y categóricos (como género y estado civil), lo que permitió aplicar análisis específicos a cada tipo.\n",
        "\n",
        "3. Estadísticos de Tendencia Central:  \n",
        "   Se calcularon la media, la mediana y la moda para identificar los valores representativos de las variables. En particular, la mediana del ingreso fue más relevante, ya que los ingresos presentaban grandes disparidades.\n",
        "\n",
        "4. Estadísticos de Posición:  \n",
        "   El cálculo de percentiles y cuartiles ayudó a entender la distribución de los datos, como los ingresos, dividiéndolos en rangos específicos.\n",
        "\n",
        "5. Tablas de Frecuencia:  \n",
        "   Las tablas de frecuencia mostraron cuántos empleados renunciaron y cuántos se quedaron, lo que es crucial para entender la rotación en la empresa.\n",
        "\n",
        "6. Álgebra Lineal:  \n",
        "   La covarianza y correlación entre la edad y el ingreso mensual ayudaron a identificar cómo estas variables se relacionan. Se observó que ambas variables tienen una correlación positiva, lo que sugiere que los empleados mayores tienden a tener ingresos más altos.\n",
        "\n",
        "7. Probabilidades:  \n",
        "   Se calculó la probabilidad de que un empleado se quede en la empresa, tanto de manera general como específicamente para mujeres, lo que ofrece insights sobre posibles patrones de retención.\n",
        "\n",
        "8. Ventajas y Desventajas de las Medidas de Tendencia Central:  \n",
        "   La media es útil en distribuciones normales, pero puede ser afectada por outliers. La mediana es menos sensible a estos, siendo más apropiada para distribuciones sesgadas."
      ],
      "metadata": {
        "id": "GBgE4_V-oPZZ"
      }
    },
    {
      "cell_type": "markdown",
      "source": [
        "Conclusión:  \n",
        "Este análisis permite tomar decisiones informadas sobre los empleados, identificando patrones de comportamiento, posibles riesgos de rotación, y factores clave que afectan el bienestar y la retención en la empresa. Las pruebas de hipótesis y el análisis de correlaciones brindan información valiosa para la toma de decisiones estratégicas.\n",
        "\n",
        "El análisis realizado muestra una organización con una fuerza laboral diversa tanto en antigüedad como en edad, lo cual abre oportunidades para fomentar programas de integración y desarrollo profesional. Se identificó una correlación moderada y positiva entre la edad y el ingreso mensual, lo que sugiere que empleados de mayor edad (y posiblemente con más experiencia) tienden a tener mejores sueldos.\n",
        "\n",
        "También se observó una diferencia significativa en los ingresos entre quienes permanecen en la empresa y quienes la abandonan, indicando que los trabajadores con salarios más bajos tienen mayor tendencia a renunciar. Esta información puede ser clave para diseñar estrategias de retención.\n",
        "\n",
        "En cuanto a la distribución de sueldos, se encontró una fuerte concentración de ingresos bajos y algunos casos extremos con salarios muy altos, lo que genera una distribución sesgada a la derecha. Esto refuerza la necesidad de tener cuidado al aplicar análisis que asumen normalidad y podría requerir el uso de métodos estadísticos alternativos.\n",
        "\n",
        "Respecto al perfil de cargos y género, la mayoría de los empleados se concentran en roles de ventas, mientras que recursos humanos tiene la menor representación. Además, existe una mayor proporción de hombres (60%) en comparación con mujeres (40%), lo que puede abrir espacio para estrategias de equidad de género.\n",
        "\n",
        "Finalmente, la edad de los trabajadores está bastante bien distribuida entre los 30 y 45 años, sin valores atípicos importantes, y los análisis gráficos como los boxplots evidencian una mediana de ingresos cerca de los 6,000, con varios empleados ganando considerablemente más. Esto refleja desigualdad salarial interna y destaca la importancia de analizar las políticas de compensación dentro de la organización."
      ],
      "metadata": {
        "id": "u2lNa3FMpDTO"
      }
    }
  ]
}